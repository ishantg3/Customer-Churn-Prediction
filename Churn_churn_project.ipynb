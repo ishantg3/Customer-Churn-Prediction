{
 "cells": [
  {
   "cell_type": "markdown",
   "metadata": {},
   "source": [
    "# Understanding and Predicting Customer Churn"
   ]
  },
  {
   "cell_type": "markdown",
   "metadata": {},
   "source": [
    "#### **Objectives:**\n",
    "1. To understand what factors contributed most to customer churn.\n",
    "2. To perform clustering to find any meaningful patterns of customer traits.\n",
    "3. To create a model that predicts the likelihood if a certain customer will churn the company or not. \n",
    "4. To create or improve different retention strategies on targeted customers. \n",
    "5. The implementation of this model will allow management to create better decision-making actions.\n",
    "\n",
    "#### I'll be covering:\n",
    "1. Descriptive Analytics - What happened?\n",
    "2. Predictive Analytics - What might happen?\n",
    "3. Prescriptive Analytics - What should the company do?"
   ]
  },
  {
   "cell_type": "markdown",
   "metadata": {},
   "source": [
    "### The Problem:\n",
    "\n",
    "One of the most common problems at work is **customer churn.** Customer churn is the percentage of customers that stopped using your company's product or service during a certain time frame. You may be wondering why it's necessary to calculate churn rate. Well, it's important because it costs more to acquire new customers than it does to retain existing customers. In fact, an increase in customer retention of just 5% can create at least a 25% increase in profit. This is because returning customers will likely spend 67% more on your company's products and services. As a result, your company can spend less on the operating costs of having to acquire new customers. You don't need to spend time and money on convincing an existing customer to select your company over competitors because they've already made that decision.\n",
    "\n",
    "Remember, the steps to calculate churn rate are:\n",
    "\n",
    "1. Determine a time period.\n",
    "2. Determine the number of customers acquired in this time period. \n",
    "3. Determine the number of customers lost or churned in this time period. \n",
    "4. Divide the number of lost customers by the number of acquired customers.\n",
    "5. Multiply that number by 100%.\n",
    "\n",
    "Customer Churn Rate = (Lost Customers ÷ Acquired Customers) x 100%\n",
    "\n",
    "Customer Churn Rate = (50 ÷ 500) x 100%\n",
    "\n",
    "Customer Churn Rate = (0.10) x 100%\n",
    "\n",
    "Customer Churn Rate = 10%\n"
   ]
  },
  {
   "cell_type": "markdown",
   "metadata": {},
   "source": [
    "#### About the dataset\n",
    "This data set provides information to help you predict what behavior will help you to retain customers. You can analyze all relevant customer data and develop focused customer retention programs.\n",
    "\n",
    "\n",
    "\n",
    "The dataset includes information about:\n",
    "\n",
    "- **Customers who left within the last month – the column is called Churn**\n",
    "- Services that each customer has signed up for – phone, multiple lines, internet, online security, online backup, device protection, tech support, and streaming TV and movies\n",
    "- Customer account information – how long they had been a customer, contract, payment method, paperless billing, monthly charges, and total charges\n",
    "- Demographic info about customers – gender, age range, and if they have partners and dependents"
   ]
  },
  {
   "cell_type": "markdown",
   "metadata": {},
   "source": [
    "### Import Packages"
   ]
  },
  {
   "cell_type": "code",
   "execution_count": 2,
   "metadata": {},
   "outputs": [],
   "source": [
    "import numpy as np\n",
    "import pandas as pd\n",
    "import seaborn as sns\n",
    "from scipy import interp\n",
    "import matplotlib.pyplot as plt\n",
    "from sklearn import svm, datasets\n",
    "from sklearn.model_selection import KFold\n",
    "from sklearn.metrics import roc_curve, auc\n",
    "from sklearn import metrics, model_selection\n",
    "from sklearn.metrics import mean_squared_error\n",
    "from sklearn.linear_model import LogisticRegression\n",
    "from sklearn.model_selection import StratifiedKFold, GridSearchCV\n",
    "\n",
    "from sklearn.model_selection import train_test_split\n",
    "from sklearn.metrics import roc_curve, auc, confusion_matrix, precision_score, recall_score, roc_auc_score, classification_report\n",
    "from sklearn.ensemble import RandomForestClassifier, GradientBoostingClassifier, AdaBoostClassifier\n",
    "%matplotlib inline"
   ]
  },
  {
   "cell_type": "markdown",
   "metadata": {},
   "source": [
    "### Load Data"
   ]
  },
  {
   "cell_type": "code",
   "execution_count": 3,
   "metadata": {},
   "outputs": [
    {
     "data": {
      "text/html": [
       "<div>\n",
       "<style scoped>\n",
       "    .dataframe tbody tr th:only-of-type {\n",
       "        vertical-align: middle;\n",
       "    }\n",
       "\n",
       "    .dataframe tbody tr th {\n",
       "        vertical-align: top;\n",
       "    }\n",
       "\n",
       "    .dataframe thead th {\n",
       "        text-align: right;\n",
       "    }\n",
       "</style>\n",
       "<table border=\"1\" class=\"dataframe\">\n",
       "  <thead>\n",
       "    <tr style=\"text-align: right;\">\n",
       "      <th></th>\n",
       "      <th>state</th>\n",
       "      <th>account_length</th>\n",
       "      <th>international_plan</th>\n",
       "      <th>voice_mail_plan</th>\n",
       "      <th>number_vmail_messages</th>\n",
       "      <th>total_day_minutes</th>\n",
       "      <th>total_day_calls</th>\n",
       "      <th>total_day_charge</th>\n",
       "      <th>total_eve_minutes</th>\n",
       "      <th>total_eve_calls</th>\n",
       "      <th>total_eve_charge</th>\n",
       "      <th>total_night_minutes</th>\n",
       "      <th>total_night_calls</th>\n",
       "      <th>total_night_charge</th>\n",
       "      <th>total_intl_minutes</th>\n",
       "      <th>total_intl_calls</th>\n",
       "      <th>total_intl_charge</th>\n",
       "      <th>number_customer_service_calls</th>\n",
       "      <th>class</th>\n",
       "    </tr>\n",
       "  </thead>\n",
       "  <tbody>\n",
       "    <tr>\n",
       "      <th>0</th>\n",
       "      <td>16</td>\n",
       "      <td>128</td>\n",
       "      <td>0</td>\n",
       "      <td>1</td>\n",
       "      <td>25</td>\n",
       "      <td>265.1</td>\n",
       "      <td>110</td>\n",
       "      <td>45.07</td>\n",
       "      <td>197.4</td>\n",
       "      <td>99</td>\n",
       "      <td>16.78</td>\n",
       "      <td>244.7</td>\n",
       "      <td>91</td>\n",
       "      <td>11.01</td>\n",
       "      <td>10.0</td>\n",
       "      <td>3</td>\n",
       "      <td>2.70</td>\n",
       "      <td>1</td>\n",
       "      <td>0</td>\n",
       "    </tr>\n",
       "    <tr>\n",
       "      <th>1</th>\n",
       "      <td>35</td>\n",
       "      <td>107</td>\n",
       "      <td>0</td>\n",
       "      <td>1</td>\n",
       "      <td>26</td>\n",
       "      <td>161.6</td>\n",
       "      <td>123</td>\n",
       "      <td>27.47</td>\n",
       "      <td>195.5</td>\n",
       "      <td>103</td>\n",
       "      <td>16.62</td>\n",
       "      <td>254.4</td>\n",
       "      <td>103</td>\n",
       "      <td>11.45</td>\n",
       "      <td>13.7</td>\n",
       "      <td>3</td>\n",
       "      <td>3.70</td>\n",
       "      <td>1</td>\n",
       "      <td>0</td>\n",
       "    </tr>\n",
       "    <tr>\n",
       "      <th>2</th>\n",
       "      <td>31</td>\n",
       "      <td>137</td>\n",
       "      <td>0</td>\n",
       "      <td>0</td>\n",
       "      <td>0</td>\n",
       "      <td>243.4</td>\n",
       "      <td>114</td>\n",
       "      <td>41.38</td>\n",
       "      <td>121.2</td>\n",
       "      <td>110</td>\n",
       "      <td>10.30</td>\n",
       "      <td>162.6</td>\n",
       "      <td>104</td>\n",
       "      <td>7.32</td>\n",
       "      <td>12.2</td>\n",
       "      <td>5</td>\n",
       "      <td>3.29</td>\n",
       "      <td>0</td>\n",
       "      <td>0</td>\n",
       "    </tr>\n",
       "    <tr>\n",
       "      <th>3</th>\n",
       "      <td>35</td>\n",
       "      <td>84</td>\n",
       "      <td>1</td>\n",
       "      <td>0</td>\n",
       "      <td>0</td>\n",
       "      <td>299.4</td>\n",
       "      <td>71</td>\n",
       "      <td>50.90</td>\n",
       "      <td>61.9</td>\n",
       "      <td>88</td>\n",
       "      <td>5.26</td>\n",
       "      <td>196.9</td>\n",
       "      <td>89</td>\n",
       "      <td>8.86</td>\n",
       "      <td>6.6</td>\n",
       "      <td>7</td>\n",
       "      <td>1.78</td>\n",
       "      <td>2</td>\n",
       "      <td>0</td>\n",
       "    </tr>\n",
       "    <tr>\n",
       "      <th>4</th>\n",
       "      <td>36</td>\n",
       "      <td>75</td>\n",
       "      <td>1</td>\n",
       "      <td>0</td>\n",
       "      <td>0</td>\n",
       "      <td>166.7</td>\n",
       "      <td>113</td>\n",
       "      <td>28.34</td>\n",
       "      <td>148.3</td>\n",
       "      <td>122</td>\n",
       "      <td>12.61</td>\n",
       "      <td>186.9</td>\n",
       "      <td>121</td>\n",
       "      <td>8.41</td>\n",
       "      <td>10.1</td>\n",
       "      <td>3</td>\n",
       "      <td>2.73</td>\n",
       "      <td>3</td>\n",
       "      <td>0</td>\n",
       "    </tr>\n",
       "  </tbody>\n",
       "</table>\n",
       "</div>"
      ],
      "text/plain": [
       "   state  account_length  international_plan  voice_mail_plan  \\\n",
       "0     16             128                   0                1   \n",
       "1     35             107                   0                1   \n",
       "2     31             137                   0                0   \n",
       "3     35              84                   1                0   \n",
       "4     36              75                   1                0   \n",
       "\n",
       "   number_vmail_messages  total_day_minutes  total_day_calls  \\\n",
       "0                     25              265.1              110   \n",
       "1                     26              161.6              123   \n",
       "2                      0              243.4              114   \n",
       "3                      0              299.4               71   \n",
       "4                      0              166.7              113   \n",
       "\n",
       "   total_day_charge  total_eve_minutes  total_eve_calls  total_eve_charge  \\\n",
       "0             45.07              197.4               99             16.78   \n",
       "1             27.47              195.5              103             16.62   \n",
       "2             41.38              121.2              110             10.30   \n",
       "3             50.90               61.9               88              5.26   \n",
       "4             28.34              148.3              122             12.61   \n",
       "\n",
       "   total_night_minutes  total_night_calls  total_night_charge  \\\n",
       "0                244.7                 91               11.01   \n",
       "1                254.4                103               11.45   \n",
       "2                162.6                104                7.32   \n",
       "3                196.9                 89                8.86   \n",
       "4                186.9                121                8.41   \n",
       "\n",
       "   total_intl_minutes  total_intl_calls  total_intl_charge  \\\n",
       "0                10.0                 3               2.70   \n",
       "1                13.7                 3               3.70   \n",
       "2                12.2                 5               3.29   \n",
       "3                 6.6                 7               1.78   \n",
       "4                10.1                 3               2.73   \n",
       "\n",
       "   number_customer_service_calls  class  \n",
       "0                              1      0  \n",
       "1                              1      0  \n",
       "2                              0      0  \n",
       "3                              2      0  \n",
       "4                              3      0  "
      ]
     },
     "execution_count": 3,
     "metadata": {},
     "output_type": "execute_result"
    }
   ],
   "source": [
    "churn_df = pd.read_csv(r\"C:\\Users\\Ishant\\Desktop\\Data_files\\churn_new_data.csv\")\n",
    "churn_df= churn_df.drop([\"area_code\", \"phone_number\"], axis=1) # arbitrary features\n",
    "churn_df.head()"
   ]
  },
  {
   "cell_type": "code",
   "execution_count": 4,
   "metadata": {},
   "outputs": [],
   "source": [
    "churn_df_features= churn_df.drop([\"class\"], axis=1)\n",
    "churn_target=churn_df[\"class\"]"
   ]
  },
  {
   "cell_type": "markdown",
   "metadata": {},
   "source": [
    "### Data Quality Check"
   ]
  },
  {
   "cell_type": "code",
   "execution_count": 153,
   "metadata": {},
   "outputs": [
    {
     "name": "stdout",
     "output_type": "stream",
     "text": [
      "<class 'pandas.core.frame.DataFrame'>\n",
      "RangeIndex: 5000 entries, 0 to 4999\n",
      "Data columns (total 19 columns):\n",
      "state                            5000 non-null int64\n",
      "account_length                   5000 non-null int64\n",
      "international_plan               5000 non-null int64\n",
      "voice_mail_plan                  5000 non-null int64\n",
      "number_vmail_messages            5000 non-null int64\n",
      "total_day_minutes                5000 non-null float64\n",
      "total_day_calls                  5000 non-null int64\n",
      "total_day_charge                 5000 non-null float64\n",
      "total_eve_minutes                5000 non-null float64\n",
      "total_eve_calls                  5000 non-null int64\n",
      "total_eve_charge                 5000 non-null float64\n",
      "total_night_minutes              5000 non-null float64\n",
      "total_night_calls                5000 non-null int64\n",
      "total_night_charge               5000 non-null float64\n",
      "total_intl_minutes               5000 non-null float64\n",
      "total_intl_calls                 5000 non-null int64\n",
      "total_intl_charge                5000 non-null float64\n",
      "number_customer_service_calls    5000 non-null int64\n",
      "class                            5000 non-null int64\n",
      "dtypes: float64(8), int64(11)\n",
      "memory usage: 742.3 KB\n"
     ]
    }
   ],
   "source": [
    "churn_df.info()"
   ]
  },
  {
   "cell_type": "code",
   "execution_count": 154,
   "metadata": {},
   "outputs": [
    {
     "data": {
      "text/plain": [
       "state                            False\n",
       "account_length                   False\n",
       "international_plan               False\n",
       "voice_mail_plan                  False\n",
       "number_vmail_messages            False\n",
       "total_day_minutes                False\n",
       "total_day_calls                  False\n",
       "total_day_charge                 False\n",
       "total_eve_minutes                False\n",
       "total_eve_calls                  False\n",
       "total_eve_charge                 False\n",
       "total_night_minutes              False\n",
       "total_night_calls                False\n",
       "total_night_charge               False\n",
       "total_intl_minutes               False\n",
       "total_intl_calls                 False\n",
       "total_intl_charge                False\n",
       "number_customer_service_calls    False\n",
       "class                            False\n",
       "dtype: bool"
      ]
     },
     "execution_count": 154,
     "metadata": {},
     "output_type": "execute_result"
    }
   ],
   "source": [
    "churn_df.isnull().any()"
   ]
  },
  {
   "cell_type": "code",
   "execution_count": 155,
   "metadata": {},
   "outputs": [
    {
     "data": {
      "text/plain": [
       "state                              int64\n",
       "account_length                     int64\n",
       "international_plan                 int64\n",
       "voice_mail_plan                    int64\n",
       "number_vmail_messages              int64\n",
       "total_day_minutes                float64\n",
       "total_day_calls                    int64\n",
       "total_day_charge                 float64\n",
       "total_eve_minutes                float64\n",
       "total_eve_calls                    int64\n",
       "total_eve_charge                 float64\n",
       "total_night_minutes              float64\n",
       "total_night_calls                  int64\n",
       "total_night_charge               float64\n",
       "total_intl_minutes               float64\n",
       "total_intl_calls                   int64\n",
       "total_intl_charge                float64\n",
       "number_customer_service_calls      int64\n",
       "class                              int64\n",
       "dtype: object"
      ]
     },
     "execution_count": 155,
     "metadata": {},
     "output_type": "execute_result"
    }
   ],
   "source": [
    "churn_df.dtypes"
   ]
  },
  {
   "cell_type": "markdown",
   "metadata": {},
   "source": [
    "### Exploratory Data Analysis"
   ]
  },
  {
   "cell_type": "code",
   "execution_count": 156,
   "metadata": {},
   "outputs": [
    {
     "data": {
      "text/html": [
       "<div>\n",
       "<style scoped>\n",
       "    .dataframe tbody tr th:only-of-type {\n",
       "        vertical-align: middle;\n",
       "    }\n",
       "\n",
       "    .dataframe tbody tr th {\n",
       "        vertical-align: top;\n",
       "    }\n",
       "\n",
       "    .dataframe thead th {\n",
       "        text-align: right;\n",
       "    }\n",
       "</style>\n",
       "<table border=\"1\" class=\"dataframe\">\n",
       "  <thead>\n",
       "    <tr style=\"text-align: right;\">\n",
       "      <th></th>\n",
       "      <th>state</th>\n",
       "      <th>account_length</th>\n",
       "      <th>international_plan</th>\n",
       "      <th>voice_mail_plan</th>\n",
       "      <th>number_vmail_messages</th>\n",
       "      <th>total_day_minutes</th>\n",
       "      <th>total_day_calls</th>\n",
       "      <th>total_day_charge</th>\n",
       "      <th>total_eve_minutes</th>\n",
       "      <th>total_eve_calls</th>\n",
       "      <th>total_eve_charge</th>\n",
       "      <th>total_night_minutes</th>\n",
       "      <th>total_night_calls</th>\n",
       "      <th>total_night_charge</th>\n",
       "      <th>total_intl_minutes</th>\n",
       "      <th>total_intl_calls</th>\n",
       "      <th>total_intl_charge</th>\n",
       "      <th>number_customer_service_calls</th>\n",
       "    </tr>\n",
       "  </thead>\n",
       "  <tbody>\n",
       "    <tr>\n",
       "      <th>count</th>\n",
       "      <td>5000.00000</td>\n",
       "      <td>5000.00000</td>\n",
       "      <td>5000.000000</td>\n",
       "      <td>5000.000000</td>\n",
       "      <td>5000.000000</td>\n",
       "      <td>5000.000000</td>\n",
       "      <td>5000.000000</td>\n",
       "      <td>5000.000000</td>\n",
       "      <td>5000.000000</td>\n",
       "      <td>5000.000000</td>\n",
       "      <td>5000.000000</td>\n",
       "      <td>5000.000000</td>\n",
       "      <td>5000.000000</td>\n",
       "      <td>5000.000000</td>\n",
       "      <td>5000.000000</td>\n",
       "      <td>5000.000000</td>\n",
       "      <td>5000.000000</td>\n",
       "      <td>5000.000000</td>\n",
       "    </tr>\n",
       "    <tr>\n",
       "      <th>mean</th>\n",
       "      <td>25.99840</td>\n",
       "      <td>100.25860</td>\n",
       "      <td>0.094600</td>\n",
       "      <td>0.264600</td>\n",
       "      <td>7.755200</td>\n",
       "      <td>180.288900</td>\n",
       "      <td>100.029400</td>\n",
       "      <td>30.649668</td>\n",
       "      <td>200.636560</td>\n",
       "      <td>100.191000</td>\n",
       "      <td>17.054322</td>\n",
       "      <td>200.391620</td>\n",
       "      <td>99.919200</td>\n",
       "      <td>9.017732</td>\n",
       "      <td>10.261780</td>\n",
       "      <td>4.435200</td>\n",
       "      <td>2.771196</td>\n",
       "      <td>1.570400</td>\n",
       "    </tr>\n",
       "    <tr>\n",
       "      <th>std</th>\n",
       "      <td>14.80348</td>\n",
       "      <td>39.69456</td>\n",
       "      <td>0.292691</td>\n",
       "      <td>0.441164</td>\n",
       "      <td>13.546393</td>\n",
       "      <td>53.894699</td>\n",
       "      <td>19.831197</td>\n",
       "      <td>9.162069</td>\n",
       "      <td>50.551309</td>\n",
       "      <td>19.826496</td>\n",
       "      <td>4.296843</td>\n",
       "      <td>50.527789</td>\n",
       "      <td>19.958686</td>\n",
       "      <td>2.273763</td>\n",
       "      <td>2.761396</td>\n",
       "      <td>2.456788</td>\n",
       "      <td>0.745514</td>\n",
       "      <td>1.306363</td>\n",
       "    </tr>\n",
       "    <tr>\n",
       "      <th>min</th>\n",
       "      <td>0.00000</td>\n",
       "      <td>1.00000</td>\n",
       "      <td>0.000000</td>\n",
       "      <td>0.000000</td>\n",
       "      <td>0.000000</td>\n",
       "      <td>0.000000</td>\n",
       "      <td>0.000000</td>\n",
       "      <td>0.000000</td>\n",
       "      <td>0.000000</td>\n",
       "      <td>0.000000</td>\n",
       "      <td>0.000000</td>\n",
       "      <td>0.000000</td>\n",
       "      <td>0.000000</td>\n",
       "      <td>0.000000</td>\n",
       "      <td>0.000000</td>\n",
       "      <td>0.000000</td>\n",
       "      <td>0.000000</td>\n",
       "      <td>0.000000</td>\n",
       "    </tr>\n",
       "    <tr>\n",
       "      <th>25%</th>\n",
       "      <td>13.00000</td>\n",
       "      <td>73.00000</td>\n",
       "      <td>0.000000</td>\n",
       "      <td>0.000000</td>\n",
       "      <td>0.000000</td>\n",
       "      <td>143.700000</td>\n",
       "      <td>87.000000</td>\n",
       "      <td>24.430000</td>\n",
       "      <td>166.375000</td>\n",
       "      <td>87.000000</td>\n",
       "      <td>14.140000</td>\n",
       "      <td>166.900000</td>\n",
       "      <td>87.000000</td>\n",
       "      <td>7.510000</td>\n",
       "      <td>8.500000</td>\n",
       "      <td>3.000000</td>\n",
       "      <td>2.300000</td>\n",
       "      <td>1.000000</td>\n",
       "    </tr>\n",
       "    <tr>\n",
       "      <th>50%</th>\n",
       "      <td>26.00000</td>\n",
       "      <td>100.00000</td>\n",
       "      <td>0.000000</td>\n",
       "      <td>0.000000</td>\n",
       "      <td>0.000000</td>\n",
       "      <td>180.100000</td>\n",
       "      <td>100.000000</td>\n",
       "      <td>30.620000</td>\n",
       "      <td>201.000000</td>\n",
       "      <td>100.000000</td>\n",
       "      <td>17.090000</td>\n",
       "      <td>200.400000</td>\n",
       "      <td>100.000000</td>\n",
       "      <td>9.020000</td>\n",
       "      <td>10.300000</td>\n",
       "      <td>4.000000</td>\n",
       "      <td>2.780000</td>\n",
       "      <td>1.000000</td>\n",
       "    </tr>\n",
       "    <tr>\n",
       "      <th>75%</th>\n",
       "      <td>39.00000</td>\n",
       "      <td>127.00000</td>\n",
       "      <td>0.000000</td>\n",
       "      <td>1.000000</td>\n",
       "      <td>17.000000</td>\n",
       "      <td>216.200000</td>\n",
       "      <td>113.000000</td>\n",
       "      <td>36.750000</td>\n",
       "      <td>234.100000</td>\n",
       "      <td>114.000000</td>\n",
       "      <td>19.900000</td>\n",
       "      <td>234.700000</td>\n",
       "      <td>113.000000</td>\n",
       "      <td>10.560000</td>\n",
       "      <td>12.000000</td>\n",
       "      <td>6.000000</td>\n",
       "      <td>3.240000</td>\n",
       "      <td>2.000000</td>\n",
       "    </tr>\n",
       "    <tr>\n",
       "      <th>max</th>\n",
       "      <td>50.00000</td>\n",
       "      <td>243.00000</td>\n",
       "      <td>1.000000</td>\n",
       "      <td>1.000000</td>\n",
       "      <td>52.000000</td>\n",
       "      <td>351.500000</td>\n",
       "      <td>165.000000</td>\n",
       "      <td>59.760000</td>\n",
       "      <td>363.700000</td>\n",
       "      <td>170.000000</td>\n",
       "      <td>30.910000</td>\n",
       "      <td>395.000000</td>\n",
       "      <td>175.000000</td>\n",
       "      <td>17.770000</td>\n",
       "      <td>20.000000</td>\n",
       "      <td>20.000000</td>\n",
       "      <td>5.400000</td>\n",
       "      <td>9.000000</td>\n",
       "    </tr>\n",
       "  </tbody>\n",
       "</table>\n",
       "</div>"
      ],
      "text/plain": [
       "            state  account_length  international_plan  voice_mail_plan  \\\n",
       "count  5000.00000      5000.00000         5000.000000      5000.000000   \n",
       "mean     25.99840       100.25860            0.094600         0.264600   \n",
       "std      14.80348        39.69456            0.292691         0.441164   \n",
       "min       0.00000         1.00000            0.000000         0.000000   \n",
       "25%      13.00000        73.00000            0.000000         0.000000   \n",
       "50%      26.00000       100.00000            0.000000         0.000000   \n",
       "75%      39.00000       127.00000            0.000000         1.000000   \n",
       "max      50.00000       243.00000            1.000000         1.000000   \n",
       "\n",
       "       number_vmail_messages  total_day_minutes  total_day_calls  \\\n",
       "count            5000.000000        5000.000000      5000.000000   \n",
       "mean                7.755200         180.288900       100.029400   \n",
       "std                13.546393          53.894699        19.831197   \n",
       "min                 0.000000           0.000000         0.000000   \n",
       "25%                 0.000000         143.700000        87.000000   \n",
       "50%                 0.000000         180.100000       100.000000   \n",
       "75%                17.000000         216.200000       113.000000   \n",
       "max                52.000000         351.500000       165.000000   \n",
       "\n",
       "       total_day_charge  total_eve_minutes  total_eve_calls  total_eve_charge  \\\n",
       "count       5000.000000        5000.000000      5000.000000       5000.000000   \n",
       "mean          30.649668         200.636560       100.191000         17.054322   \n",
       "std            9.162069          50.551309        19.826496          4.296843   \n",
       "min            0.000000           0.000000         0.000000          0.000000   \n",
       "25%           24.430000         166.375000        87.000000         14.140000   \n",
       "50%           30.620000         201.000000       100.000000         17.090000   \n",
       "75%           36.750000         234.100000       114.000000         19.900000   \n",
       "max           59.760000         363.700000       170.000000         30.910000   \n",
       "\n",
       "       total_night_minutes  total_night_calls  total_night_charge  \\\n",
       "count          5000.000000        5000.000000         5000.000000   \n",
       "mean            200.391620          99.919200            9.017732   \n",
       "std              50.527789          19.958686            2.273763   \n",
       "min               0.000000           0.000000            0.000000   \n",
       "25%             166.900000          87.000000            7.510000   \n",
       "50%             200.400000         100.000000            9.020000   \n",
       "75%             234.700000         113.000000           10.560000   \n",
       "max             395.000000         175.000000           17.770000   \n",
       "\n",
       "       total_intl_minutes  total_intl_calls  total_intl_charge  \\\n",
       "count         5000.000000       5000.000000        5000.000000   \n",
       "mean            10.261780          4.435200           2.771196   \n",
       "std              2.761396          2.456788           0.745514   \n",
       "min              0.000000          0.000000           0.000000   \n",
       "25%              8.500000          3.000000           2.300000   \n",
       "50%             10.300000          4.000000           2.780000   \n",
       "75%             12.000000          6.000000           3.240000   \n",
       "max             20.000000         20.000000           5.400000   \n",
       "\n",
       "       number_customer_service_calls  \n",
       "count                    5000.000000  \n",
       "mean                        1.570400  \n",
       "std                         1.306363  \n",
       "min                         0.000000  \n",
       "25%                         1.000000  \n",
       "50%                         1.000000  \n",
       "75%                         2.000000  \n",
       "max                         9.000000  "
      ]
     },
     "execution_count": 156,
     "metadata": {},
     "output_type": "execute_result"
    }
   ],
   "source": [
    "churn_df_features.describe()"
   ]
  },
  {
   "cell_type": "code",
   "execution_count": 157,
   "metadata": {},
   "outputs": [
    {
     "data": {
      "text/plain": [
       "array([[<matplotlib.axes._subplots.AxesSubplot object at 0x00000261919B7518>,\n",
       "        <matplotlib.axes._subplots.AxesSubplot object at 0x0000026191912048>,\n",
       "        <matplotlib.axes._subplots.AxesSubplot object at 0x0000026191880710>,\n",
       "        <matplotlib.axes._subplots.AxesSubplot object at 0x0000026191826F28>],\n",
       "       [<matplotlib.axes._subplots.AxesSubplot object at 0x00000261903718D0>,\n",
       "        <matplotlib.axes._subplots.AxesSubplot object at 0x00000261903C8358>,\n",
       "        <matplotlib.axes._subplots.AxesSubplot object at 0x000002618F679CC0>,\n",
       "        <matplotlib.axes._subplots.AxesSubplot object at 0x000002618F654320>],\n",
       "       [<matplotlib.axes._subplots.AxesSubplot object at 0x000002618F6542E8>,\n",
       "        <matplotlib.axes._subplots.AxesSubplot object at 0x000002618F5E60B8>,\n",
       "        <matplotlib.axes._subplots.AxesSubplot object at 0x000002618F31A470>,\n",
       "        <matplotlib.axes._subplots.AxesSubplot object at 0x000002618F2D5208>],\n",
       "       [<matplotlib.axes._subplots.AxesSubplot object at 0x000002618DF5A860>,\n",
       "        <matplotlib.axes._subplots.AxesSubplot object at 0x000002618DB37F98>,\n",
       "        <matplotlib.axes._subplots.AxesSubplot object at 0x000002618DB94278>,\n",
       "        <matplotlib.axes._subplots.AxesSubplot object at 0x000002618D9F76D8>],\n",
       "       [<matplotlib.axes._subplots.AxesSubplot object at 0x000002618D6BEC88>,\n",
       "        <matplotlib.axes._subplots.AxesSubplot object at 0x000002618B3F3E48>,\n",
       "        <matplotlib.axes._subplots.AxesSubplot object at 0x000002618D25B8D0>,\n",
       "        <matplotlib.axes._subplots.AxesSubplot object at 0x000002618D1B8358>]],\n",
       "      dtype=object)"
      ]
     },
     "execution_count": 157,
     "metadata": {},
     "output_type": "execute_result"
    },
    {
     "data": {
      "image/png": "[encoded data removed]",
      "text/plain": [
       "<Figure size 936x864 with 20 Axes>"
      ]
     },
     "metadata": {
      "needs_background": "light"
     },
     "output_type": "display_data"
    }
   ],
   "source": [
    "churn_df_features.hist(figsize=(13,12), grid=False)"
   ]
  },
  {
   "cell_type": "code",
   "execution_count": 158,
   "metadata": {},
   "outputs": [
    {
     "data": {
      "text/html": [
       "<div>\n",
       "<style scoped>\n",
       "    .dataframe tbody tr th:only-of-type {\n",
       "        vertical-align: middle;\n",
       "    }\n",
       "\n",
       "    .dataframe tbody tr th {\n",
       "        vertical-align: top;\n",
       "    }\n",
       "\n",
       "    .dataframe thead th {\n",
       "        text-align: right;\n",
       "    }\n",
       "</style>\n",
       "<table border=\"1\" class=\"dataframe\">\n",
       "  <thead>\n",
       "    <tr style=\"text-align: right;\">\n",
       "      <th></th>\n",
       "      <th>state</th>\n",
       "      <th>account_length</th>\n",
       "      <th>international_plan</th>\n",
       "      <th>voice_mail_plan</th>\n",
       "      <th>number_vmail_messages</th>\n",
       "      <th>total_day_minutes</th>\n",
       "      <th>total_day_calls</th>\n",
       "      <th>total_day_charge</th>\n",
       "      <th>total_eve_minutes</th>\n",
       "      <th>total_eve_calls</th>\n",
       "      <th>total_eve_charge</th>\n",
       "      <th>total_night_minutes</th>\n",
       "      <th>total_night_calls</th>\n",
       "      <th>total_night_charge</th>\n",
       "      <th>total_intl_minutes</th>\n",
       "      <th>total_intl_calls</th>\n",
       "      <th>total_intl_charge</th>\n",
       "      <th>number_customer_service_calls</th>\n",
       "    </tr>\n",
       "    <tr>\n",
       "      <th>class</th>\n",
       "      <th></th>\n",
       "      <th></th>\n",
       "      <th></th>\n",
       "      <th></th>\n",
       "      <th></th>\n",
       "      <th></th>\n",
       "      <th></th>\n",
       "      <th></th>\n",
       "      <th></th>\n",
       "      <th></th>\n",
       "      <th></th>\n",
       "      <th></th>\n",
       "      <th></th>\n",
       "      <th></th>\n",
       "      <th></th>\n",
       "      <th></th>\n",
       "      <th></th>\n",
       "      <th></th>\n",
       "    </tr>\n",
       "  </thead>\n",
       "  <tbody>\n",
       "    <tr>\n",
       "      <th>0</th>\n",
       "      <td>25.956674</td>\n",
       "      <td>99.917074</td>\n",
       "      <td>0.063825</td>\n",
       "      <td>0.284416</td>\n",
       "      <td>8.291870</td>\n",
       "      <td>175.746564</td>\n",
       "      <td>99.899604</td>\n",
       "      <td>29.877494</td>\n",
       "      <td>198.805031</td>\n",
       "      <td>100.241556</td>\n",
       "      <td>16.898654</td>\n",
       "      <td>199.455113</td>\n",
       "      <td>99.975775</td>\n",
       "      <td>8.975593</td>\n",
       "      <td>10.190869</td>\n",
       "      <td>4.481947</td>\n",
       "      <td>2.752055</td>\n",
       "      <td>1.457722</td>\n",
       "    </tr>\n",
       "    <tr>\n",
       "      <th>1</th>\n",
       "      <td>26.251768</td>\n",
       "      <td>102.332390</td>\n",
       "      <td>0.281471</td>\n",
       "      <td>0.144272</td>\n",
       "      <td>4.496464</td>\n",
       "      <td>207.870580</td>\n",
       "      <td>100.817539</td>\n",
       "      <td>35.338416</td>\n",
       "      <td>211.757850</td>\n",
       "      <td>99.884017</td>\n",
       "      <td>17.999562</td>\n",
       "      <td>206.078218</td>\n",
       "      <td>99.575672</td>\n",
       "      <td>9.273607</td>\n",
       "      <td>10.692362</td>\n",
       "      <td>4.151344</td>\n",
       "      <td>2.887426</td>\n",
       "      <td>2.254597</td>\n",
       "    </tr>\n",
       "  </tbody>\n",
       "</table>\n",
       "</div>"
      ],
      "text/plain": [
       "           state  account_length  international_plan  voice_mail_plan  \\\n",
       "class                                                                   \n",
       "0      25.956674       99.917074            0.063825         0.284416   \n",
       "1      26.251768      102.332390            0.281471         0.144272   \n",
       "\n",
       "       number_vmail_messages  total_day_minutes  total_day_calls  \\\n",
       "class                                                              \n",
       "0                   8.291870         175.746564        99.899604   \n",
       "1                   4.496464         207.870580       100.817539   \n",
       "\n",
       "       total_day_charge  total_eve_minutes  total_eve_calls  total_eve_charge  \\\n",
       "class                                                                           \n",
       "0             29.877494         198.805031       100.241556         16.898654   \n",
       "1             35.338416         211.757850        99.884017         17.999562   \n",
       "\n",
       "       total_night_minutes  total_night_calls  total_night_charge  \\\n",
       "class                                                               \n",
       "0               199.455113          99.975775            8.975593   \n",
       "1               206.078218          99.575672            9.273607   \n",
       "\n",
       "       total_intl_minutes  total_intl_calls  total_intl_charge  \\\n",
       "class                                                            \n",
       "0               10.190869          4.481947           2.752055   \n",
       "1               10.692362          4.151344           2.887426   \n",
       "\n",
       "       number_customer_service_calls  \n",
       "class                                 \n",
       "0                           1.457722  \n",
       "1                           2.254597  "
      ]
     },
     "execution_count": 158,
     "metadata": {},
     "output_type": "execute_result"
    }
   ],
   "source": [
    "churn_summary= churn_df.groupby([\"class\"])\n",
    "churn_summary.mean()"
   ]
  },
  {
   "cell_type": "code",
   "execution_count": 159,
   "metadata": {},
   "outputs": [
    {
     "data": {
      "text/html": [
       "<div>\n",
       "<style scoped>\n",
       "    .dataframe tbody tr th:only-of-type {\n",
       "        vertical-align: middle;\n",
       "    }\n",
       "\n",
       "    .dataframe tbody tr th {\n",
       "        vertical-align: top;\n",
       "    }\n",
       "\n",
       "    .dataframe thead th {\n",
       "        text-align: right;\n",
       "    }\n",
       "</style>\n",
       "<table border=\"1\" class=\"dataframe\">\n",
       "  <thead>\n",
       "    <tr style=\"text-align: right;\">\n",
       "      <th></th>\n",
       "      <th>state</th>\n",
       "      <th>account_length</th>\n",
       "      <th>international_plan</th>\n",
       "      <th>voice_mail_plan</th>\n",
       "      <th>number_vmail_messages</th>\n",
       "      <th>total_day_minutes</th>\n",
       "      <th>total_day_calls</th>\n",
       "      <th>total_day_charge</th>\n",
       "      <th>total_eve_minutes</th>\n",
       "      <th>total_eve_calls</th>\n",
       "      <th>total_eve_charge</th>\n",
       "      <th>total_night_minutes</th>\n",
       "      <th>total_night_calls</th>\n",
       "      <th>total_night_charge</th>\n",
       "      <th>total_intl_minutes</th>\n",
       "      <th>total_intl_calls</th>\n",
       "      <th>total_intl_charge</th>\n",
       "      <th>number_customer_service_calls</th>\n",
       "    </tr>\n",
       "    <tr>\n",
       "      <th>class</th>\n",
       "      <th></th>\n",
       "      <th></th>\n",
       "      <th></th>\n",
       "      <th></th>\n",
       "      <th></th>\n",
       "      <th></th>\n",
       "      <th></th>\n",
       "      <th></th>\n",
       "      <th></th>\n",
       "      <th></th>\n",
       "      <th></th>\n",
       "      <th></th>\n",
       "      <th></th>\n",
       "      <th></th>\n",
       "      <th></th>\n",
       "      <th></th>\n",
       "      <th></th>\n",
       "      <th></th>\n",
       "    </tr>\n",
       "  </thead>\n",
       "  <tbody>\n",
       "    <tr>\n",
       "      <th>0</th>\n",
       "      <td>14.897193</td>\n",
       "      <td>39.737531</td>\n",
       "      <td>0.244469</td>\n",
       "      <td>0.451189</td>\n",
       "      <td>13.809408</td>\n",
       "      <td>49.634575</td>\n",
       "      <td>19.674019</td>\n",
       "      <td>8.437810</td>\n",
       "      <td>50.151854</td>\n",
       "      <td>19.862391</td>\n",
       "      <td>4.262900</td>\n",
       "      <td>50.609570</td>\n",
       "      <td>19.958820</td>\n",
       "      <td>2.277438</td>\n",
       "      <td>2.749994</td>\n",
       "      <td>2.438233</td>\n",
       "      <td>0.742443</td>\n",
       "      <td>1.164236</td>\n",
       "    </tr>\n",
       "    <tr>\n",
       "      <th>1</th>\n",
       "      <td>14.228766</td>\n",
       "      <td>39.396993</td>\n",
       "      <td>0.450035</td>\n",
       "      <td>0.351614</td>\n",
       "      <td>11.297719</td>\n",
       "      <td>68.576475</td>\n",
       "      <td>20.757110</td>\n",
       "      <td>11.658195</td>\n",
       "      <td>51.568859</td>\n",
       "      <td>19.618258</td>\n",
       "      <td>4.383293</td>\n",
       "      <td>49.685763</td>\n",
       "      <td>19.968555</td>\n",
       "      <td>2.235902</td>\n",
       "      <td>2.793187</td>\n",
       "      <td>2.550011</td>\n",
       "      <td>0.754057</td>\n",
       "      <td>1.815956</td>\n",
       "    </tr>\n",
       "  </tbody>\n",
       "</table>\n",
       "</div>"
      ],
      "text/plain": [
       "           state  account_length  international_plan  voice_mail_plan  \\\n",
       "class                                                                   \n",
       "0      14.897193       39.737531            0.244469         0.451189   \n",
       "1      14.228766       39.396993            0.450035         0.351614   \n",
       "\n",
       "       number_vmail_messages  total_day_minutes  total_day_calls  \\\n",
       "class                                                              \n",
       "0                  13.809408          49.634575        19.674019   \n",
       "1                  11.297719          68.576475        20.757110   \n",
       "\n",
       "       total_day_charge  total_eve_minutes  total_eve_calls  total_eve_charge  \\\n",
       "class                                                                           \n",
       "0              8.437810          50.151854        19.862391          4.262900   \n",
       "1             11.658195          51.568859        19.618258          4.383293   \n",
       "\n",
       "       total_night_minutes  total_night_calls  total_night_charge  \\\n",
       "class                                                               \n",
       "0                50.609570          19.958820            2.277438   \n",
       "1                49.685763          19.968555            2.235902   \n",
       "\n",
       "       total_intl_minutes  total_intl_calls  total_intl_charge  \\\n",
       "class                                                            \n",
       "0                2.749994          2.438233           0.742443   \n",
       "1                2.793187          2.550011           0.754057   \n",
       "\n",
       "       number_customer_service_calls  \n",
       "class                                 \n",
       "0                           1.164236  \n",
       "1                           1.815956  "
      ]
     },
     "execution_count": 159,
     "metadata": {},
     "output_type": "execute_result"
    }
   ],
   "source": [
    "churn_summary.std()"
   ]
  },
  {
   "cell_type": "markdown",
   "metadata": {},
   "source": [
    "## Class Imbalance\n",
    "\n",
    "#### Customer Churn Rate: 14%"
   ]
  },
  {
   "cell_type": "code",
   "execution_count": 160,
   "metadata": {},
   "outputs": [
    {
     "data": {
      "text/plain": [
       "0    0.8586\n",
       "1    0.1414\n",
       "Name: class, dtype: float64"
      ]
     },
     "execution_count": 160,
     "metadata": {},
     "output_type": "execute_result"
    }
   ],
   "source": [
    "churn_rate= churn_df[\"class\"].value_counts()/5000\n",
    "churn_rate"
   ]
  },
  {
   "cell_type": "code",
   "execution_count": 161,
   "metadata": {},
   "outputs": [
    {
     "data": {
      "text/plain": [
       "Text(0.5, 1, 'Heatmap of correlational matrix')"
      ]
     },
     "execution_count": 161,
     "metadata": {},
     "output_type": "execute_result"
    },
    {
     "data": {
      "image/png": "[encoded data removed]",
      "text/plain": [
       "<Figure size 1080x720 with 2 Axes>"
      ]
     },
     "metadata": {
      "needs_background": "light"
     },
     "output_type": "display_data"
    }
   ],
   "source": [
    "plt.figure(figsize=(15,10))\n",
    "corr=churn_df.corr()\n",
    "sns.heatmap(corr, vmax=1,\n",
    "    square=True,\n",
    "    annot=True,\n",
    "    fmt='.2f',\n",
    "    cmap='GnBu',\n",
    "    cbar_kws={\"shrink\": .5},\n",
    "    robust=True)\n",
    "plt.title(\"Heatmap of correlational matrix\", fontsize=8)"
   ]
  },
  {
   "cell_type": "markdown",
   "metadata": {},
   "source": [
    "The result of this Correlation Matrix means that there isn't much redundant or superfluous data in our dataset. We can see that the variables such as 'voice_mail_plan', 'number_vmail_messages', different minutes cols and charges are highly correlated. I'll still leave all features in for the purposes of this exercise.\n",
    "\n",
    "The features such as \"number_customer_service_calls\", \"total_day_charge\", \"total_day_minutes\",\"international_plans\" and \"voice_plan\" show slight correlation with class lets see their pattern towards class."
   ]
  },
  {
   "cell_type": "markdown",
   "metadata": {},
   "source": [
    "### --Relevance of number_customer_service_calls on Churn\n",
    "**Intuitions and forward plan:**\n",
    "As per my understanding customer who wants to churn should call the customer service before churning."
   ]
  },
  {
   "cell_type": "code",
   "execution_count": 162,
   "metadata": {},
   "outputs": [
    {
     "data": {
      "text/plain": [
       "Text(0, 0.5, '% of number_customer_service_calls')"
      ]
     },
     "execution_count": 162,
     "metadata": {},
     "output_type": "execute_result"
    },
    {
     "data": {
      "image/png": "[encoded data removed]",
      "text/plain": [
       "<Figure size 1224x360 with 2 Axes>"
      ]
     },
     "metadata": {
      "needs_background": "light"
     },
     "output_type": "display_data"
    }
   ],
   "source": [
    "fig = plt.figure(figsize=(17,5))\n",
    "plt.subplot(1,2,1)\n",
    "ax=sns.kdeplot (churn_df.loc[(churn_df['class'] == 0),'number_customer_service_calls'] , color='b',shade=True, label='no churn')\n",
    "ax=sns.kdeplot(churn_df.loc[(churn_df['class'] == 1),'number_customer_service_calls'] , color='r',shade=True, label='churn')\n",
    "plt.title('number_customer_service_calls - churn V.S. No churn')\n",
    "plt.subplot(1,2,2)\n",
    "ax = sns.barplot(x=\"number_customer_service_calls\", y=\"number_customer_service_calls\",\n",
    "                 hue=\"class\", data=churn_df, estimator=lambda x: len(x) / len(churn_df) * 100)\n",
    "plt.ylabel(\"% of number_customer_service_calls\")"
   ]
  },
  {
   "cell_type": "markdown",
   "metadata": {},
   "source": [
    "**Observation:** Customers who called the company more than 3 times are more likely to Churn."
   ]
  },
  {
   "cell_type": "markdown",
   "metadata": {},
   "source": [
    "### --Relation b/w total_day_charge and customer churn"
   ]
  },
  {
   "cell_type": "code",
   "execution_count": 163,
   "metadata": {},
   "outputs": [
    {
     "data": {
      "text/plain": [
       "Text(0.5, 1.0, \"Mean_total_day_charge - churn V.S. No churn'\")"
      ]
     },
     "execution_count": 163,
     "metadata": {},
     "output_type": "execute_result"
    },
    {
     "data": {
      "image/png": "[encoded data removed]",
      "text/plain": [
       "<Figure size 1224x360 with 2 Axes>"
      ]
     },
     "metadata": {
      "needs_background": "light"
     },
     "output_type": "display_data"
    }
   ],
   "source": [
    "fig = plt.figure(figsize=(17,5))\n",
    "plt.subplot(1,2,1)\n",
    "ax=sns.kdeplot (churn_df.loc[(churn_df['class'] == 0),'total_day_charge'] , color='b',shade=True, label='no churn')\n",
    "ax=sns.kdeplot(churn_df.loc[(churn_df['class'] == 1),'total_day_charge'] , color='r',shade=True, label='churn')\n",
    "plt.title('total_day_charge - churn V.S. No churn')\n",
    "plt.subplot(1,2,2)\n",
    "sns.barplot(x=\"class\", y=\"total_day_charge\", data= churn_df)\n",
    "plt.title(\"Mean_total_day_charge - churn V.S. No churn'\")"
   ]
  },
  {
   "cell_type": "markdown",
   "metadata": {},
   "source": [
    "**Observation:** \n",
    "A bi-modal distribution for customers that churned \n",
    "1. Customers who had less total_day_charge (~25 or less) left the company \n",
    "2. Customers who had too much total_day_charge (~45 or more) left the company \n",
    "3. Customers who left generally were moderate or Excessive user."
   ]
  },
  {
   "cell_type": "markdown",
   "metadata": {},
   "source": [
    "### Split Train/Test Set\n",
    "\n",
    "Let's split our data into a train and test set. We'll fit our model with the train set and leave our test set for our last evaluation. Stratify sampling is used to deal with class imbalance."
   ]
  },
  {
   "cell_type": "code",
   "execution_count": 33,
   "metadata": {},
   "outputs": [],
   "source": [
    "X_train, X_test, y_train, y_test = train_test_split(churn_df_features,churn_target,test_size=0.20, random_state=123, \n",
    "                                                    stratify=churn_target)"
   ]
  },
  {
   "cell_type": "markdown",
   "metadata": {},
   "source": [
    "### Resample Methods\n",
    "\n",
    "Let's train a base logistic regression model on the three types of samples to see which yields the best result:\n",
    "1. **Orginal Sample**\n",
    "2. **Upsampling Data**\n",
    "3. **Downsampling Data**"
   ]
  },
  {
   "cell_type": "code",
   "execution_count": 6,
   "metadata": {},
   "outputs": [
    {
     "name": "stdout",
     "output_type": "stream",
     "text": [
      "Original shape: (4000, 18) (4000,)\n",
      "Upsampled shape: (6868, 18) (6868,)\n",
      "SMOTE sample shape: (6868, 18) (6868,)\n",
      "Downsampled shape: (1132, 18) (1132,)\n"
     ]
    }
   ],
   "source": [
    "from sklearn.utils import resample\n",
    "from imblearn.over_sampling import SMOTE \n",
    "\n",
    "# Upsample minority class\n",
    "X_train_u, y_train_u = resample(X_train[y_train == 1],\n",
    "                                y_train[y_train == 1],\n",
    "                                replace=True,\n",
    "                                n_samples=X_train[y_train == 0].shape[0],\n",
    "                                random_state=1)\n",
    "\n",
    "X_train_u = np.concatenate((X_train[y_train == 0], X_train_u))\n",
    "y_train_u = np.concatenate((y_train[y_train == 0], y_train_u))\n",
    "\n",
    "\n",
    "# Upsample using SMOTE\n",
    "sm = SMOTE(random_state=12, ratio = 1.0)\n",
    "x_train_sm, y_train_sm = sm.fit_sample(X_train, y_train)\n",
    "\n",
    "\n",
    "# Downsample majority class\n",
    "X_train_d, y_train_d = resample(X_train[y_train == 0],\n",
    "                                y_train[y_train == 0],\n",
    "                                replace=True,\n",
    "                                n_samples=X_train[y_train == 1].shape[0],\n",
    "                                random_state=1)\n",
    "X_train_d = np.concatenate((X_train[y_train == 1], X_train_d))\n",
    "y_train_d = np.concatenate((y_train[y_train == 1], y_train_d))\n",
    "\n",
    "\n",
    "print(\"Original shape:\", X_train.shape, y_train.shape)\n",
    "print(\"Upsampled shape:\", X_train_u.shape, y_train_u.shape)\n",
    "print (\"SMOTE sample shape:\", x_train_sm.shape, y_train_sm.shape)\n",
    "print(\"Downsampled shape:\", X_train_d.shape, y_train_d.shape)"
   ]
  },
  {
   "cell_type": "markdown",
   "metadata": {},
   "source": [
    "**Objective:** Train our Logistic Regression Model to our original, upsampled, and downsampled data to see which performs best."
   ]
  },
  {
   "cell_type": "code",
   "execution_count": 7,
   "metadata": {},
   "outputs": [
    {
     "name": "stderr",
     "output_type": "stream",
     "text": [
      "F:\\Softwares\\Anaconda3\\lib\\site-packages\\sklearn\\linear_model\\logistic.py:432: FutureWarning: Default solver will be changed to 'lbfgs' in 0.22. Specify a solver to silence this warning.\n",
      "  FutureWarning)\n",
      "F:\\Softwares\\Anaconda3\\lib\\site-packages\\sklearn\\linear_model\\logistic.py:432: FutureWarning: Default solver will be changed to 'lbfgs' in 0.22. Specify a solver to silence this warning.\n",
      "  FutureWarning)\n",
      "F:\\Softwares\\Anaconda3\\lib\\site-packages\\sklearn\\linear_model\\logistic.py:432: FutureWarning: Default solver will be changed to 'lbfgs' in 0.22. Specify a solver to silence this warning.\n",
      "  FutureWarning)\n",
      "F:\\Softwares\\Anaconda3\\lib\\site-packages\\sklearn\\linear_model\\logistic.py:432: FutureWarning: Default solver will be changed to 'lbfgs' in 0.22. Specify a solver to silence this warning.\n",
      "  FutureWarning)\n",
      "F:\\Softwares\\Anaconda3\\lib\\site-packages\\sklearn\\linear_model\\logistic.py:432: FutureWarning: Default solver will be changed to 'lbfgs' in 0.22. Specify a solver to silence this warning.\n",
      "  FutureWarning)\n"
     ]
    },
    {
     "name": "stdout",
     "output_type": "stream",
     "text": [
      "The best F1 Score for Original data:\n",
      "0.27623388216137207\n"
     ]
    },
    {
     "name": "stderr",
     "output_type": "stream",
     "text": [
      "F:\\Softwares\\Anaconda3\\lib\\site-packages\\sklearn\\linear_model\\logistic.py:432: FutureWarning: Default solver will be changed to 'lbfgs' in 0.22. Specify a solver to silence this warning.\n",
      "  FutureWarning)\n",
      "F:\\Softwares\\Anaconda3\\lib\\site-packages\\sklearn\\linear_model\\logistic.py:432: FutureWarning: Default solver will be changed to 'lbfgs' in 0.22. Specify a solver to silence this warning.\n",
      "  FutureWarning)\n",
      "F:\\Softwares\\Anaconda3\\lib\\site-packages\\sklearn\\linear_model\\logistic.py:432: FutureWarning: Default solver will be changed to 'lbfgs' in 0.22. Specify a solver to silence this warning.\n",
      "  FutureWarning)\n",
      "F:\\Softwares\\Anaconda3\\lib\\site-packages\\sklearn\\linear_model\\logistic.py:432: FutureWarning: Default solver will be changed to 'lbfgs' in 0.22. Specify a solver to silence this warning.\n",
      "  FutureWarning)\n",
      "F:\\Softwares\\Anaconda3\\lib\\site-packages\\sklearn\\linear_model\\logistic.py:432: FutureWarning: Default solver will be changed to 'lbfgs' in 0.22. Specify a solver to silence this warning.\n",
      "  FutureWarning)\n"
     ]
    },
    {
     "name": "stdout",
     "output_type": "stream",
     "text": [
      "The best F1 Score for Upsampled data:\n",
      "0.7740075019695147\n"
     ]
    },
    {
     "name": "stderr",
     "output_type": "stream",
     "text": [
      "F:\\Softwares\\Anaconda3\\lib\\site-packages\\sklearn\\linear_model\\logistic.py:432: FutureWarning: Default solver will be changed to 'lbfgs' in 0.22. Specify a solver to silence this warning.\n",
      "  FutureWarning)\n",
      "F:\\Softwares\\Anaconda3\\lib\\site-packages\\sklearn\\linear_model\\logistic.py:432: FutureWarning: Default solver will be changed to 'lbfgs' in 0.22. Specify a solver to silence this warning.\n",
      "  FutureWarning)\n",
      "F:\\Softwares\\Anaconda3\\lib\\site-packages\\sklearn\\linear_model\\logistic.py:432: FutureWarning: Default solver will be changed to 'lbfgs' in 0.22. Specify a solver to silence this warning.\n",
      "  FutureWarning)\n",
      "F:\\Softwares\\Anaconda3\\lib\\site-packages\\sklearn\\linear_model\\logistic.py:432: FutureWarning: Default solver will be changed to 'lbfgs' in 0.22. Specify a solver to silence this warning.\n",
      "  FutureWarning)\n",
      "F:\\Softwares\\Anaconda3\\lib\\site-packages\\sklearn\\linear_model\\logistic.py:432: FutureWarning: Default solver will be changed to 'lbfgs' in 0.22. Specify a solver to silence this warning.\n",
      "  FutureWarning)\n"
     ]
    },
    {
     "name": "stdout",
     "output_type": "stream",
     "text": [
      "The best F1 Score for SMOTE data:\n",
      "0.7944373332857219\n"
     ]
    },
    {
     "name": "stderr",
     "output_type": "stream",
     "text": [
      "F:\\Softwares\\Anaconda3\\lib\\site-packages\\sklearn\\linear_model\\logistic.py:432: FutureWarning: Default solver will be changed to 'lbfgs' in 0.22. Specify a solver to silence this warning.\n",
      "  FutureWarning)\n",
      "F:\\Softwares\\Anaconda3\\lib\\site-packages\\sklearn\\linear_model\\logistic.py:432: FutureWarning: Default solver will be changed to 'lbfgs' in 0.22. Specify a solver to silence this warning.\n",
      "  FutureWarning)\n",
      "F:\\Softwares\\Anaconda3\\lib\\site-packages\\sklearn\\linear_model\\logistic.py:432: FutureWarning: Default solver will be changed to 'lbfgs' in 0.22. Specify a solver to silence this warning.\n",
      "  FutureWarning)\n",
      "F:\\Softwares\\Anaconda3\\lib\\site-packages\\sklearn\\linear_model\\logistic.py:432: FutureWarning: Default solver will be changed to 'lbfgs' in 0.22. Specify a solver to silence this warning.\n",
      "  FutureWarning)\n",
      "F:\\Softwares\\Anaconda3\\lib\\site-packages\\sklearn\\linear_model\\logistic.py:432: FutureWarning: Default solver will be changed to 'lbfgs' in 0.22. Specify a solver to silence this warning.\n",
      "  FutureWarning)\n"
     ]
    },
    {
     "name": "stdout",
     "output_type": "stream",
     "text": [
      "The best F1 Score for Downsampled data:\n",
      "0.7580122246365271\n"
     ]
    }
   ],
   "source": [
    "from sklearn.model_selection import cross_val_score\n",
    "# Create the Original, Upsampled, and Downsampled training sets\n",
    "methods_data = {\"Original\": (X_train, y_train),\n",
    "                \"Upsampled\": (X_train_u, y_train_u),\n",
    "                \"SMOTE\":(x_train_sm, y_train_sm),\n",
    "                \"Downsampled\": (X_train_d, y_train_d)}\n",
    "\n",
    "# Loop through each type of training sets and apply 5-Fold CV using Logistic Regression\n",
    "# By default in cross_val_score StratifiedCV is used\n",
    "for method in methods_data.keys():\n",
    "    lr_results = cross_val_score(LogisticRegression(), methods_data[method][0], methods_data[method][1], cv=5, scoring='f1')\n",
    "    print(f\"The best F1 Score for {method} data:\")\n",
    "    print (lr_results.mean())"
   ]
  },
  {
   "cell_type": "markdown",
   "metadata": {},
   "source": [
    "**Observation:**\n",
    "Train on Original, Upsampled, SMOTE, and Downsampled Data \n",
    "\n",
    "**Resut:**\n",
    "- Original Sample: F1 Score 27.6%\n",
    "- Upsample: F1 Score 77.%\n",
    "- SMOTE: F1 Score 79.4%\n",
    "- Downsample: F1 Score 75.8%\n",
    "\n",
    "SMOTE gives us the best performance because SMOTE use the nearest neighbors of the minority observations to create new synthetic data"
   ]
  },
  {
   "cell_type": "markdown",
   "metadata": {},
   "source": [
    "### Models Analysis\n",
    "Four models have been used to study the effectiveness.\n",
    "\n",
    "**Logistic Regression:**\n",
    "Models the probability of the default class. The coefficients (Beta values b) of the logistic regression algorithm must be estimated from the training data\n",
    "\n",
    "**Gradient Boosted:**\n",
    "Produces a prediction model in the form of an ensemble of weak prediction models, typically decision trees.\n",
    "\n",
    "**Random Forest:**\n",
    "Creates the forest with some number of trees.\n",
    "\n",
    "**AdaBoost:**\n",
    "It fits a sequence of weak learners on different weighted training data.\n"
   ]
  },
  {
   "cell_type": "markdown",
   "metadata": {},
   "source": [
    "### Logistic Regression"
   ]
  },
  {
   "cell_type": "code",
   "execution_count": 8,
   "metadata": {},
   "outputs": [
    {
     "name": "stderr",
     "output_type": "stream",
     "text": [
      "F:\\Softwares\\Anaconda3\\lib\\site-packages\\sklearn\\linear_model\\logistic.py:432: FutureWarning: Default solver will be changed to 'lbfgs' in 0.22. Specify a solver to silence this warning.\n",
      "  FutureWarning)\n"
     ]
    },
    {
     "name": "stdout",
     "output_type": "stream",
     "text": [
      "Logistic Regression Model\n",
      "Logistic Regression AUC = 0.77\n",
      "              precision    recall  f1-score   support\n",
      "\n",
      "           0       0.95      0.78      0.86       859\n",
      "           1       0.36      0.75      0.49       141\n",
      "\n",
      "    accuracy                           0.78      1000\n",
      "   macro avg       0.66      0.77      0.67      1000\n",
      "weighted avg       0.87      0.78      0.81      1000\n",
      "\n",
      "[[673 186]\n",
      " [ 35 106]]\n"
     ]
    }
   ],
   "source": [
    "lr = LogisticRegression()\n",
    "\n",
    "# Fit the model to the Upsampling data\n",
    "lr = lr.fit(x_train_sm, y_train_sm)\n",
    "\n",
    "print (\"Logistic Regression Model\")\n",
    "lr_auc = roc_auc_score(y_test, lr.predict(X_test))\n",
    "\n",
    "print (\"Logistic Regression AUC = %2.2f\" % lr_auc)\n",
    "\n",
    "print(classification_report(y_test, lr.predict(X_test)))\n",
    "print(confusion_matrix(y_test,lr.predict(X_test)))"
   ]
  },
  {
   "cell_type": "markdown",
   "metadata": {},
   "source": [
    "### Gradient Boosted"
   ]
  },
  {
   "cell_type": "code",
   "execution_count": 9,
   "metadata": {},
   "outputs": [
    {
     "name": "stdout",
     "output_type": "stream",
     "text": [
      "Gradient Boosting Model\n",
      "GradientBoosting AUC = 0.87\n",
      "              precision    recall  f1-score   support\n",
      "\n",
      "           0       0.96      0.97      0.96       859\n",
      "           1       0.78      0.77      0.77       141\n",
      "\n",
      "    accuracy                           0.94      1000\n",
      "   macro avg       0.87      0.87      0.87      1000\n",
      "weighted avg       0.94      0.94      0.94      1000\n",
      "\n",
      "[[829  30]\n",
      " [ 33 108]]\n"
     ]
    }
   ],
   "source": [
    "gbc = GradientBoostingClassifier()  \n",
    "gbc = gbc.fit(x_train_sm,y_train_sm)\n",
    "print (\"Gradient Boosting Model\")\n",
    "gbc_auc = roc_auc_score(y_test, gbc.predict(X_test))\n",
    "\n",
    "print (\"GradientBoosting AUC = %2.2f\" % gbc_auc)\n",
    "\n",
    "print(classification_report(y_test, gbc.predict(X_test)))\n",
    "print(confusion_matrix(y_test,gbc.predict(X_test)))"
   ]
  },
  {
   "cell_type": "markdown",
   "metadata": {},
   "source": [
    "### Random Forest"
   ]
  },
  {
   "cell_type": "code",
   "execution_count": 10,
   "metadata": {},
   "outputs": [
    {
     "name": "stderr",
     "output_type": "stream",
     "text": [
      "F:\\Softwares\\Anaconda3\\lib\\site-packages\\sklearn\\ensemble\\forest.py:245: FutureWarning: The default value of n_estimators will change from 10 in version 0.20 to 100 in 0.22.\n",
      "  \"10 in version 0.20 to 100 in 0.22.\", FutureWarning)\n"
     ]
    },
    {
     "name": "stdout",
     "output_type": "stream",
     "text": [
      "Random Forest Model\n",
      "Random Forest AUC = 0.87\n",
      "              precision    recall  f1-score   support\n",
      "\n",
      "           0       0.96      0.98      0.97       859\n",
      "           1       0.84      0.76      0.80       141\n",
      "\n",
      "    accuracy                           0.95      1000\n",
      "   macro avg       0.90      0.87      0.88      1000\n",
      "weighted avg       0.94      0.95      0.94      1000\n",
      "\n",
      "[[839  20]\n",
      " [ 34 107]]\n"
     ]
    }
   ],
   "source": [
    "rf = RandomForestClassifier()  \n",
    "rf = rf.fit(x_train_sm,y_train_sm)\n",
    "print (\"Random Forest Model\")\n",
    "rf_auc = roc_auc_score(y_test, rf.predict(X_test))\n",
    "\n",
    "print (\"Random Forest AUC = %2.2f\" % rf_auc)\n",
    "\n",
    "print(classification_report(y_test,rf.predict(X_test)))\n",
    "print(confusion_matrix(y_test,rf.predict(X_test)))"
   ]
  },
  {
   "cell_type": "code",
   "execution_count": 21,
   "metadata": {},
   "outputs": [
    {
     "name": "stdout",
     "output_type": "stream",
     "text": [
      "AdaBoost Model\n",
      "AdaBoost AUC = 0.73\n",
      "              precision    recall  f1-score   support\n",
      "\n",
      "           0       0.92      0.92      0.92       859\n",
      "           1       0.52      0.53      0.52       141\n",
      "\n",
      "    accuracy                           0.86      1000\n",
      "   macro avg       0.72      0.73      0.72      1000\n",
      "weighted avg       0.87      0.86      0.86      1000\n",
      "\n"
     ]
    }
   ],
   "source": [
    "ab =AdaBoostClassifier()  \n",
    "ab =ab.fit(x_train_sm,y_train_sm)\n",
    "print (\"AdaBoost Model\")\n",
    "ab_auc = roc_auc_score(y_test, ab.predict(X_test))\n",
    "\n",
    "print (\"AdaBoost AUC = %2.2f\" % ab_auc)\n",
    "\n",
    "print(classification_report(y_test,ab.predict(X_test)))"
   ]
  },
  {
   "cell_type": "code",
   "execution_count": 12,
   "metadata": {},
   "outputs": [
    {
     "data": {
      "image/png": "[encoded data removed]",
      "text/plain": [
       "<Figure size 864x360 with 1 Axes>"
      ]
     },
     "metadata": {
      "needs_background": "light"
     },
     "output_type": "display_data"
    }
   ],
   "source": [
    "# Create ROC Graph\n",
    "from sklearn.metrics import roc_curve\n",
    "fpr, tpr, thresholds = roc_curve(y_test, lr.predict_proba(X_test)[:,1])\n",
    "rf_fpr, rf_tpr, rf_thresholds = roc_curve(y_test, rf.predict_proba(X_test)[:,1])\n",
    "gbc_fpr, gbc_tpr, gbc_thresholds = roc_curve(y_test, gbc.predict_proba(X_test)[:,1])\n",
    "ab_fpr, ab_tpr, ab_thresholds = roc_curve(y_test, ab.predict_proba(X_test)[:,1])\n",
    "\n",
    "\n",
    "plt.figure(figsize=(12,5))\n",
    "\n",
    "# Plot Logistic Regression ROC\n",
    "plt.plot(fpr, tpr, label='Logistic Regression (area = %0.2f)' % lr_auc)\n",
    "\n",
    "# Plot Random Forest ROC\n",
    "plt.plot(rf_fpr, rf_tpr, label='Random Forest Classifier (area = %0.2f)' % rf_auc)\n",
    "\n",
    "# Plot Decision Tree ROC\n",
    "plt.plot(gbc_fpr, gbc_tpr, label='Gradient Boosting Classifier (area = %0.2f)' % gbc_auc)\n",
    "\n",
    "# Plot AdaBoost ROC\n",
    "plt.plot(gbc_fpr, gbc_tpr, label='AdaBoost Classifier (area = %0.2f)' % ab_auc)\n",
    "\n",
    "# Plot Base Rate ROC\n",
    "plt.plot([0,1], [0,1],label='Base Rate')\n",
    "\n",
    "plt.xlim([0.0, 1.0])\n",
    "plt.ylim([0.0, 1.05])\n",
    "plt.xlabel('False Positive Rate')\n",
    "plt.ylabel('True Positive Rate')\n",
    "plt.title('ROC Graph')\n",
    "plt.legend(loc=\"lower right\")\n",
    "plt.show()"
   ]
  },
  {
   "cell_type": "code",
   "execution_count": 13,
   "metadata": {},
   "outputs": [
    {
     "data": {
      "text/plain": [
       "GradientBoostingClassifier(criterion='friedman_mse', init=None,\n",
       "                           learning_rate=0.2, loss='deviance', max_depth=5,\n",
       "                           max_features=None, max_leaf_nodes=None,\n",
       "                           min_impurity_decrease=0.0, min_impurity_split=None,\n",
       "                           min_samples_leaf=5, min_samples_split=2,\n",
       "                           min_weight_fraction_leaf=0.0, n_estimators=100,\n",
       "                           n_iter_no_change=None, presort='auto',\n",
       "                           random_state=None, subsample=1.0, tol=0.0001,\n",
       "                           validation_fraction=0.1, verbose=0,\n",
       "                           warm_start=False)"
      ]
     },
     "execution_count": 13,
     "metadata": {},
     "output_type": "execute_result"
    }
   ],
   "source": [
    "model = GradientBoostingClassifier()\n",
    "gb_grid_params = {\n",
    "    'learning_rate': [0.1, 0.2],\n",
    "    'max_depth': [4, 5],\n",
    "    'min_samples_leaf': [5, 7]\n",
    "}\n",
    "\n",
    "gs = GridSearchCV(model, gb_grid_params, cv=10, return_train_score=True)\n",
    "\n",
    "gs.fit(x_train_sm, y_train_sm)\n",
    "bestrf = gs.best_estimator_\n",
    "bestrf"
   ]
  },
  {
   "cell_type": "code",
   "execution_count": 14,
   "metadata": {},
   "outputs": [
    {
     "name": "stdout",
     "output_type": "stream",
     "text": [
      "Mean cross-validated score of the best_estimator:  0.9711706464764124\n"
     ]
    }
   ],
   "source": [
    "print(\"Mean cross-validated score of the best_estimator: \", gs.best_score_ )"
   ]
  },
  {
   "cell_type": "code",
   "execution_count": 34,
   "metadata": {},
   "outputs": [
    {
     "name": "stderr",
     "output_type": "stream",
     "text": [
      "F:\\Softwares\\Anaconda3\\lib\\site-packages\\sklearn\\ensemble\\forest.py:245: FutureWarning: The default value of n_estimators will change from 10 in version 0.20 to 100 in 0.22.\n",
      "  \"10 in version 0.20 to 100 in 0.22.\", FutureWarning)\n"
     ]
    },
    {
     "data": {
      "text/plain": [
       "RandomForestClassifier(bootstrap=True, class_weight=None, criterion='gini',\n",
       "                       max_depth=5, max_features=0.65, max_leaf_nodes=None,\n",
       "                       min_impurity_decrease=0.0, min_impurity_split=None,\n",
       "                       min_samples_leaf=5, min_samples_split=2,\n",
       "                       min_weight_fraction_leaf=0.0, n_estimators=10,\n",
       "                       n_jobs=None, oob_score=False, random_state=None,\n",
       "                       verbose=0, warm_start=False)"
      ]
     },
     "execution_count": 34,
     "metadata": {},
     "output_type": "execute_result"
    }
   ],
   "source": [
    "# Random Forest Model\n",
    "rf = RandomForestClassifier(max_depth=5,  min_samples_leaf=5, max_features=0.65)\n",
    "\n",
    "# fit the model on your training data\n",
    "rf.fit(x_train_sm, y_train_sm)\n",
    "\n"
   ]
  },
  {
   "cell_type": "code",
   "execution_count": 48,
   "metadata": {},
   "outputs": [
    {
     "data": {
      "text/html": [
       "<div>\n",
       "<style scoped>\n",
       "    .dataframe tbody tr th:only-of-type {\n",
       "        vertical-align: middle;\n",
       "    }\n",
       "\n",
       "    .dataframe tbody tr th {\n",
       "        vertical-align: top;\n",
       "    }\n",
       "\n",
       "    .dataframe thead th {\n",
       "        text-align: right;\n",
       "    }\n",
       "</style>\n",
       "<table border=\"1\" class=\"dataframe\">\n",
       "  <thead>\n",
       "    <tr style=\"text-align: right;\">\n",
       "      <th></th>\n",
       "      <th>state</th>\n",
       "      <th>account_length</th>\n",
       "      <th>international_plan</th>\n",
       "      <th>voice_mail_plan</th>\n",
       "      <th>number_vmail_messages</th>\n",
       "      <th>total_day_minutes</th>\n",
       "      <th>total_day_calls</th>\n",
       "      <th>total_day_charge</th>\n",
       "      <th>total_eve_minutes</th>\n",
       "      <th>total_eve_calls</th>\n",
       "      <th>total_eve_charge</th>\n",
       "      <th>total_night_minutes</th>\n",
       "      <th>total_night_calls</th>\n",
       "      <th>total_night_charge</th>\n",
       "      <th>total_intl_minutes</th>\n",
       "      <th>total_intl_calls</th>\n",
       "      <th>total_intl_charge</th>\n",
       "      <th>number_customer_service_calls</th>\n",
       "    </tr>\n",
       "  </thead>\n",
       "  <tbody>\n",
       "    <tr>\n",
       "      <th>4690</th>\n",
       "      <td>23</td>\n",
       "      <td>138</td>\n",
       "      <td>0</td>\n",
       "      <td>0</td>\n",
       "      <td>0</td>\n",
       "      <td>54.8</td>\n",
       "      <td>123</td>\n",
       "      <td>9.32</td>\n",
       "      <td>147.5</td>\n",
       "      <td>76</td>\n",
       "      <td>12.54</td>\n",
       "      <td>173.6</td>\n",
       "      <td>119</td>\n",
       "      <td>7.81</td>\n",
       "      <td>11.5</td>\n",
       "      <td>1</td>\n",
       "      <td>3.11</td>\n",
       "      <td>1</td>\n",
       "    </tr>\n",
       "    <tr>\n",
       "      <th>2518</th>\n",
       "      <td>18</td>\n",
       "      <td>53</td>\n",
       "      <td>0</td>\n",
       "      <td>0</td>\n",
       "      <td>0</td>\n",
       "      <td>145.1</td>\n",
       "      <td>116</td>\n",
       "      <td>24.67</td>\n",
       "      <td>233.7</td>\n",
       "      <td>82</td>\n",
       "      <td>19.86</td>\n",
       "      <td>208.7</td>\n",
       "      <td>95</td>\n",
       "      <td>9.39</td>\n",
       "      <td>7.9</td>\n",
       "      <td>5</td>\n",
       "      <td>2.13</td>\n",
       "      <td>2</td>\n",
       "    </tr>\n",
       "    <tr>\n",
       "      <th>2777</th>\n",
       "      <td>48</td>\n",
       "      <td>20</td>\n",
       "      <td>0</td>\n",
       "      <td>0</td>\n",
       "      <td>0</td>\n",
       "      <td>186.8</td>\n",
       "      <td>89</td>\n",
       "      <td>31.76</td>\n",
       "      <td>253.4</td>\n",
       "      <td>51</td>\n",
       "      <td>21.54</td>\n",
       "      <td>273.1</td>\n",
       "      <td>105</td>\n",
       "      <td>12.29</td>\n",
       "      <td>12.3</td>\n",
       "      <td>6</td>\n",
       "      <td>3.32</td>\n",
       "      <td>2</td>\n",
       "    </tr>\n",
       "    <tr>\n",
       "      <th>2526</th>\n",
       "      <td>31</td>\n",
       "      <td>57</td>\n",
       "      <td>1</td>\n",
       "      <td>0</td>\n",
       "      <td>0</td>\n",
       "      <td>115.0</td>\n",
       "      <td>65</td>\n",
       "      <td>19.55</td>\n",
       "      <td>122.3</td>\n",
       "      <td>96</td>\n",
       "      <td>10.40</td>\n",
       "      <td>245.0</td>\n",
       "      <td>75</td>\n",
       "      <td>11.03</td>\n",
       "      <td>6.4</td>\n",
       "      <td>1</td>\n",
       "      <td>1.73</td>\n",
       "      <td>0</td>\n",
       "    </tr>\n",
       "    <tr>\n",
       "      <th>1106</th>\n",
       "      <td>27</td>\n",
       "      <td>86</td>\n",
       "      <td>0</td>\n",
       "      <td>0</td>\n",
       "      <td>0</td>\n",
       "      <td>190.5</td>\n",
       "      <td>115</td>\n",
       "      <td>32.39</td>\n",
       "      <td>179.6</td>\n",
       "      <td>130</td>\n",
       "      <td>15.27</td>\n",
       "      <td>258.5</td>\n",
       "      <td>89</td>\n",
       "      <td>11.63</td>\n",
       "      <td>10.1</td>\n",
       "      <td>5</td>\n",
       "      <td>2.73</td>\n",
       "      <td>3</td>\n",
       "    </tr>\n",
       "  </tbody>\n",
       "</table>\n",
       "</div>"
      ],
      "text/plain": [
       "      state  account_length  international_plan  voice_mail_plan  \\\n",
       "4690     23             138                   0                0   \n",
       "2518     18              53                   0                0   \n",
       "2777     48              20                   0                0   \n",
       "2526     31              57                   1                0   \n",
       "1106     27              86                   0                0   \n",
       "\n",
       "      number_vmail_messages  total_day_minutes  total_day_calls  \\\n",
       "4690                      0               54.8              123   \n",
       "2518                      0              145.1              116   \n",
       "2777                      0              186.8               89   \n",
       "2526                      0              115.0               65   \n",
       "1106                      0              190.5              115   \n",
       "\n",
       "      total_day_charge  total_eve_minutes  total_eve_calls  total_eve_charge  \\\n",
       "4690              9.32              147.5               76             12.54   \n",
       "2518             24.67              233.7               82             19.86   \n",
       "2777             31.76              253.4               51             21.54   \n",
       "2526             19.55              122.3               96             10.40   \n",
       "1106             32.39              179.6              130             15.27   \n",
       "\n",
       "      total_night_minutes  total_night_calls  total_night_charge  \\\n",
       "4690                173.6                119                7.81   \n",
       "2518                208.7                 95                9.39   \n",
       "2777                273.1                105               12.29   \n",
       "2526                245.0                 75               11.03   \n",
       "1106                258.5                 89               11.63   \n",
       "\n",
       "      total_intl_minutes  total_intl_calls  total_intl_charge  \\\n",
       "4690                11.5                 1               3.11   \n",
       "2518                 7.9                 5               2.13   \n",
       "2777                12.3                 6               3.32   \n",
       "2526                 6.4                 1               1.73   \n",
       "1106                10.1                 5               2.73   \n",
       "\n",
       "      number_customer_service_calls  \n",
       "4690                              1  \n",
       "2518                              2  \n",
       "2777                              2  \n",
       "2526                              0  \n",
       "1106                              3  "
      ]
     },
     "execution_count": 48,
     "metadata": {},
     "output_type": "execute_result"
    }
   ],
   "source": [
    "X_train.head()"
   ]
  },
  {
   "cell_type": "code",
   "execution_count": 41,
   "metadata": {},
   "outputs": [],
   "source": [
    "x_train_sm=pd.DataFrame(x_train_sm)"
   ]
  },
  {
   "cell_type": "code",
   "execution_count": 42,
   "metadata": {},
   "outputs": [
    {
     "data": {
      "text/html": [
       "<div>\n",
       "<style scoped>\n",
       "    .dataframe tbody tr th:only-of-type {\n",
       "        vertical-align: middle;\n",
       "    }\n",
       "\n",
       "    .dataframe tbody tr th {\n",
       "        vertical-align: top;\n",
       "    }\n",
       "\n",
       "    .dataframe thead th {\n",
       "        text-align: right;\n",
       "    }\n",
       "</style>\n",
       "<table border=\"1\" class=\"dataframe\">\n",
       "  <thead>\n",
       "    <tr style=\"text-align: right;\">\n",
       "      <th></th>\n",
       "      <th>0</th>\n",
       "      <th>1</th>\n",
       "      <th>2</th>\n",
       "      <th>3</th>\n",
       "      <th>4</th>\n",
       "      <th>5</th>\n",
       "      <th>6</th>\n",
       "      <th>7</th>\n",
       "      <th>8</th>\n",
       "      <th>9</th>\n",
       "      <th>10</th>\n",
       "      <th>11</th>\n",
       "      <th>12</th>\n",
       "      <th>13</th>\n",
       "      <th>14</th>\n",
       "      <th>15</th>\n",
       "      <th>16</th>\n",
       "      <th>17</th>\n",
       "    </tr>\n",
       "  </thead>\n",
       "  <tbody>\n",
       "    <tr>\n",
       "      <th>0</th>\n",
       "      <td>23.0</td>\n",
       "      <td>138.0</td>\n",
       "      <td>0.0</td>\n",
       "      <td>0.0</td>\n",
       "      <td>0.0</td>\n",
       "      <td>54.8</td>\n",
       "      <td>123.0</td>\n",
       "      <td>9.32</td>\n",
       "      <td>147.5</td>\n",
       "      <td>76.0</td>\n",
       "      <td>12.54</td>\n",
       "      <td>173.6</td>\n",
       "      <td>119.0</td>\n",
       "      <td>7.81</td>\n",
       "      <td>11.5</td>\n",
       "      <td>1.0</td>\n",
       "      <td>3.11</td>\n",
       "      <td>1.0</td>\n",
       "    </tr>\n",
       "    <tr>\n",
       "      <th>1</th>\n",
       "      <td>18.0</td>\n",
       "      <td>53.0</td>\n",
       "      <td>0.0</td>\n",
       "      <td>0.0</td>\n",
       "      <td>0.0</td>\n",
       "      <td>145.1</td>\n",
       "      <td>116.0</td>\n",
       "      <td>24.67</td>\n",
       "      <td>233.7</td>\n",
       "      <td>82.0</td>\n",
       "      <td>19.86</td>\n",
       "      <td>208.7</td>\n",
       "      <td>95.0</td>\n",
       "      <td>9.39</td>\n",
       "      <td>7.9</td>\n",
       "      <td>5.0</td>\n",
       "      <td>2.13</td>\n",
       "      <td>2.0</td>\n",
       "    </tr>\n",
       "    <tr>\n",
       "      <th>2</th>\n",
       "      <td>48.0</td>\n",
       "      <td>20.0</td>\n",
       "      <td>0.0</td>\n",
       "      <td>0.0</td>\n",
       "      <td>0.0</td>\n",
       "      <td>186.8</td>\n",
       "      <td>89.0</td>\n",
       "      <td>31.76</td>\n",
       "      <td>253.4</td>\n",
       "      <td>51.0</td>\n",
       "      <td>21.54</td>\n",
       "      <td>273.1</td>\n",
       "      <td>105.0</td>\n",
       "      <td>12.29</td>\n",
       "      <td>12.3</td>\n",
       "      <td>6.0</td>\n",
       "      <td>3.32</td>\n",
       "      <td>2.0</td>\n",
       "    </tr>\n",
       "    <tr>\n",
       "      <th>3</th>\n",
       "      <td>31.0</td>\n",
       "      <td>57.0</td>\n",
       "      <td>1.0</td>\n",
       "      <td>0.0</td>\n",
       "      <td>0.0</td>\n",
       "      <td>115.0</td>\n",
       "      <td>65.0</td>\n",
       "      <td>19.55</td>\n",
       "      <td>122.3</td>\n",
       "      <td>96.0</td>\n",
       "      <td>10.40</td>\n",
       "      <td>245.0</td>\n",
       "      <td>75.0</td>\n",
       "      <td>11.03</td>\n",
       "      <td>6.4</td>\n",
       "      <td>1.0</td>\n",
       "      <td>1.73</td>\n",
       "      <td>0.0</td>\n",
       "    </tr>\n",
       "    <tr>\n",
       "      <th>4</th>\n",
       "      <td>27.0</td>\n",
       "      <td>86.0</td>\n",
       "      <td>0.0</td>\n",
       "      <td>0.0</td>\n",
       "      <td>0.0</td>\n",
       "      <td>190.5</td>\n",
       "      <td>115.0</td>\n",
       "      <td>32.39</td>\n",
       "      <td>179.6</td>\n",
       "      <td>130.0</td>\n",
       "      <td>15.27</td>\n",
       "      <td>258.5</td>\n",
       "      <td>89.0</td>\n",
       "      <td>11.63</td>\n",
       "      <td>10.1</td>\n",
       "      <td>5.0</td>\n",
       "      <td>2.73</td>\n",
       "      <td>3.0</td>\n",
       "    </tr>\n",
       "  </tbody>\n",
       "</table>\n",
       "</div>"
      ],
      "text/plain": [
       "     0      1    2    3    4      5      6      7      8      9      10  \\\n",
       "0  23.0  138.0  0.0  0.0  0.0   54.8  123.0   9.32  147.5   76.0  12.54   \n",
       "1  18.0   53.0  0.0  0.0  0.0  145.1  116.0  24.67  233.7   82.0  19.86   \n",
       "2  48.0   20.0  0.0  0.0  0.0  186.8   89.0  31.76  253.4   51.0  21.54   \n",
       "3  31.0   57.0  1.0  0.0  0.0  115.0   65.0  19.55  122.3   96.0  10.40   \n",
       "4  27.0   86.0  0.0  0.0  0.0  190.5  115.0  32.39  179.6  130.0  15.27   \n",
       "\n",
       "      11     12     13    14   15    16   17  \n",
       "0  173.6  119.0   7.81  11.5  1.0  3.11  1.0  \n",
       "1  208.7   95.0   9.39   7.9  5.0  2.13  2.0  \n",
       "2  273.1  105.0  12.29  12.3  6.0  3.32  2.0  \n",
       "3  245.0   75.0  11.03   6.4  1.0  1.73  0.0  \n",
       "4  258.5   89.0  11.63  10.1  5.0  2.73  3.0  "
      ]
     },
     "execution_count": 42,
     "metadata": {},
     "output_type": "execute_result"
    }
   ],
   "source": [
    "x_train_sm.head()"
   ]
  },
  {
   "cell_type": "code",
   "execution_count": 45,
   "metadata": {},
   "outputs": [
    {
     "name": "stdout",
     "output_type": "stream",
     "text": [
      "state\n",
      "account_length\n",
      "international_plan\n",
      "voice_mail_plan\n",
      "number_vmail_messages\n",
      "total_day_minutes\n",
      "total_day_calls\n",
      "total_day_charge\n",
      "total_eve_minutes\n",
      "total_eve_calls\n",
      "total_eve_charge\n",
      "total_night_minutes\n",
      "total_night_calls\n",
      "total_night_charge\n",
      "total_intl_minutes\n",
      "total_intl_calls\n",
      "total_intl_charge\n",
      "number_customer_service_calls\n"
     ]
    }
   ],
   "source": [
    "for col in X_train.columns:\n",
    "    print(col)"
   ]
  },
  {
   "cell_type": "code",
   "execution_count": 50,
   "metadata": {},
   "outputs": [],
   "source": [
    "x_train_sm.columns=[\"state\", \"account_length\", \"international_plan\", \"voice_mail_plan\", \"number_vmail_messages\", \"total_day_minutes\",\n",
    "\"total_day_calls\", \"total_day_charge\", \"total_eve_minutes\", \"total_eve_calls\", \"total_eve_charge\", \"total_night_minutes\", \"total_night_calls\",\n",
    "\"total_night_charge\",\"total_intl_minutes\",\"total_intl_calls\",\"total_intl_charge\",\"number_customer_service_calls\"]"
   ]
  },
  {
   "cell_type": "code",
   "execution_count": 51,
   "metadata": {},
   "outputs": [
    {
     "name": "stdout",
     "output_type": "stream",
     "text": [
      "state                            0.000174\n",
      "account_length                   0.000064\n",
      "international_plan               0.293322\n",
      "voice_mail_plan                  0.058657\n",
      "number_vmail_messages            0.008962\n",
      "total_day_minutes                0.154693\n",
      "total_day_calls                  0.000287\n",
      "total_day_charge                 0.123757\n",
      "total_eve_minutes                0.036122\n",
      "total_eve_calls                  0.000649\n",
      "total_eve_charge                 0.034486\n",
      "total_night_minutes              0.005925\n",
      "total_night_calls                0.000170\n",
      "total_night_charge               0.001934\n",
      "total_intl_minutes               0.005496\n",
      "total_intl_calls                 0.030140\n",
      "total_intl_charge                0.015038\n",
      "number_customer_service_calls    0.230125\n",
      "dtype: float64\n"
     ]
    },
    {
     "data": {
      "text/plain": [
       "<matplotlib.axes._subplots.AxesSubplot at 0x251ec827390>"
      ]
     },
     "execution_count": 51,
     "metadata": {},
     "output_type": "execute_result"
    },
    {
     "data": {
      "image/png": "[encoded data removed]",
      "text/plain": [
       "<Figure size 1080x504 with 1 Axes>"
      ]
     },
     "metadata": {
      "needs_background": "light"
     },
     "output_type": "display_data"
    }
   ],
   "source": [
    "feature_importances = pd.Series(rf.feature_importances_, index=x_train_sm.columns)\n",
    "print(feature_importances)\n",
    "feature_importances.sort_values(inplace=True)\n",
    "feature_importances.plot(kind='barh', figsize=(15,7))"
   ]
  },
  {
   "cell_type": "code",
   "execution_count": 54,
   "metadata": {},
   "outputs": [
    {
     "name": "stderr",
     "output_type": "stream",
     "text": [
      "F:\\Softwares\\Anaconda3\\lib\\site-packages\\sklearn\\ensemble\\forest.py:245: FutureWarning: The default value of n_estimators will change from 10 in version 0.20 to 100 in 0.22.\n",
      "  \"10 in version 0.20 to 100 in 0.22.\", FutureWarning)\n"
     ]
    },
    {
     "data": {
      "text/plain": [
       "<matplotlib.axes._subplots.AxesSubplot at 0x251ed9cb710>"
      ]
     },
     "execution_count": 54,
     "metadata": {},
     "output_type": "execute_result"
    },
    {
     "data": {
      "image/png": "[encoded data removed]",
      "text/plain": [
       "<Figure size 936x504 with 1 Axes>"
      ]
     },
     "metadata": {},
     "output_type": "display_data"
    }
   ],
   "source": [
    "# Apply Random Noise to data set\n",
    "x_train_sm_rnoise =  pd.DataFrame(x_train_sm)\n",
    "x_train_sm_rnoise['RANDOM_NOISE'] = np.random.normal(0, 1, x_train_sm_rnoise.shape[0])\n",
    "\n",
    "# Fit Random Forest to DataSet\n",
    "rf_random = RandomForestClassifier(max_depth=5,  min_samples_leaf=5, max_features=0.65)\n",
    "rf_random = rf_random.fit(x_train_sm_rnoise, y_train_sm)\n",
    "\n",
    "\n",
    "# Get Feature Importances\n",
    "feature_importances_random = pd.DataFrame(rf_random.feature_importances_, index = x_train_sm_rnoise.columns,columns=['importance']).sort_values('importance', ascending=False)\n",
    "feature_importances_random = feature_importances_random.reset_index()\n",
    "\n",
    "# Create Seaborn PLot\n",
    "sns.set(style=\"whitegrid\")\n",
    "# Initialize the matplotlib figure\n",
    "f, ax = plt.subplots(figsize=(13, 7))\n",
    "\n",
    "\n",
    "clrs = ['red' if (x == 5 ) else 'green' for x in feature_importances_random.index.values ]\n",
    "\n",
    "# Plot the Feature Importance\n",
    "sns.barplot(x=\"importance\", y='index', data=feature_importances_random,\n",
    "            label=\"Total\",  palette=clrs)"
   ]
  },
  {
   "cell_type": "markdown",
   "metadata": {},
   "source": [
    "**Observation**:\n",
    "According to the feature importance analysis produced by the Gradient Boosting algorithm, the following features had the highest predictive power:\n",
    "\n",
    "- international_plan\n",
    "- number_customer_service_calls\n",
    "- total_day_minutes\n",
    "- total_day_charge\n",
    "- total_eve_charge"
   ]
  },
  {
   "cell_type": "markdown",
   "metadata": {},
   "source": [
    "### Conclusion\n",
    "The model did a good job of predicting churn. Among all the models built, Gradient Boosted Classifier produced the highest AUC and the following scores:\n",
    "\n",
    "- Accuracy: 94% labeled correctly\n",
    "- Precision: 78% labeled as churn actually churned (3% were wrongly labeled as churn)\n",
    "- Recall: 77% that actually churned were labeled as churn (23% of churn users were labeled as non-churn)"
   ]
  },
  {
   "cell_type": "markdown",
   "metadata": {},
   "source": [
    "### Retention Plan\n",
    "Since this model is being used for people, we should refrain from soley relying on the output of our model. Instead, we can use it's probability output and design our own system to treat each customer accordingly. \n",
    "\n",
    "- Safe Zone (Green) – Customers within this zone are considered safe. \n",
    "\n",
    "- Low Risk Zone (Yellow) – Customers within this zone are too be taken into consideration of potential churn. This is more of a long-term track.\n",
    "\n",
    "- Medium Risk Zone (Orange) – Customers within this zone are at risk of churn. Action should be taken and monitored accordingly. \n",
    " \n",
    "- High Risk Zone (Red) – Customers within this zone are considered to have the highest chance of churn. Action should be taken immediately. "
   ]
  },
  {
   "cell_type": "markdown",
   "metadata": {},
   "source": [
    "### Findings\n",
    "- Binary Classification: Churn V.S. No Churn\n",
    "- Instance Scoring: Likelihood of customer responding to an offer/incentive to save them from leaving.\n",
    "- Need for Application: Save customers from leaving\n",
    "\n",
    "In our customer retention problem, rather than simply predicting whether an customer will churn the company within a certain time frame, we would much rather have an estimate of the probability that he/she will leave the company. We would rank customers by their probability of leaving, then allocate a limited incentive budget to the highest probability instances. \n",
    "\n",
    "Consider customer churn domain where a customer is given treatment by customer services because they think the customer will leave the company within a month, but the customer actually does not. This is a false positive. This mistake could be expensive, inconvenient, and time consuming for both the customer services and customer, but is a good investment for relational growth."
   ]
  },
  {
   "cell_type": "code",
   "execution_count": null,
   "metadata": {},
   "outputs": [],
   "source": []
  }
 ],
 "metadata": {
  "kernelspec": {
   "display_name": "Python 3",
   "language": "python",
   "name": "python3"
  },
  "language_info": {
   "codemirror_mode": {
    "name": "ipython",
    "version": 3
   },
   "file_extension": ".py",
   "mimetype": "text/x-python",
   "name": "python",
   "nbconvert_exporter": "python",
   "pygments_lexer": "ipython3",
   "version": "3.7.3"
  }
 },
 "nbformat": 4,
 "nbformat_minor": 2
}
